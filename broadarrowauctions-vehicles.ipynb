{
 "cells": [
  {
   "cell_type": "code",
   "execution_count": 35,
   "metadata": {},
   "outputs": [],
   "source": [
    "import time\n",
    "from selenium import webdriver\n",
    "from selenium.webdriver.common.by import By\n",
    "from selenium.webdriver.chrome.service import Service\n",
    "from selenium.webdriver.support import expected_conditions as EC\n",
    "from selenium.webdriver.support.ui import WebDriverWait\n",
    "from bs4 import BeautifulSoup"
   ]
  },
  {
   "cell_type": "code",
   "execution_count": 73,
   "metadata": {},
   "outputs": [
    {
     "name": "stdout",
     "output_type": "stream",
     "text": [
      "Data has been saved to 'auction_data.xlsx'.\n"
     ]
    }
   ],
   "source": [
    "from selenium import webdriver\n",
    "from selenium.webdriver.chrome.service import Service\n",
    "from bs4 import BeautifulSoup\n",
    "import pandas as pd\n",
    "\n",
    "# Setup Selenium WebDriver\n",
    "service = Service(\n",
    "    r\"C:\\Users\\Nishant shah\\OneDrive\\Desktop\\Nishant\\Software\\chromedriver.exe\"\n",
    ")\n",
    "driver = webdriver.Chrome(service=service)\n",
    "\n",
    "# URL of the web page to scrape\n",
    "url = \"https://www.broadarrowauctions.com/vehicles/results?q%5Bbranch_id_eq%5D=15&q%5Bs%5D%5B0%5D%5Bname_dir%5D=stock.asc\"\n",
    "driver.get(url)\n",
    "\n",
    "# Parse the page source with BeautifulSoup\n",
    "soup = BeautifulSoup(driver.page_source, \"html.parser\")\n",
    "vehicles = soup.find_all(\"div\", class_=\"ft-vehicle-item grid-block\")\n",
    "\n",
    "data = []\n",
    "\n",
    "# Extract and print vehicle details\n",
    "for vehicle in vehicles:\n",
    "    # Extract car name (combining all parts)\n",
    "    car_name_section = vehicle.find(\"div\", class_=\"name-auto\")\n",
    "    if car_name_section:\n",
    "        car_name = \" \".join(\n",
    "            part.strip() for part in car_name_section.stripped_strings\n",
    "        )  # Combine all strings into a single name\n",
    "    else:\n",
    "        car_name = \"N/A\"\n",
    "\n",
    "    # Extract lot and auction details\n",
    "    top_section = vehicle.find(\"div\", class_=\"price\")\n",
    "    if top_section:\n",
    "\n",
    "        spans = top_section.find_all(\"span\")\n",
    "        lot = (\n",
    "            spans[0].text.replace(\"Lot\", \"\").replace(\" |\", \"\").strip()\n",
    "            if len(spans) > 0\n",
    "            else \"N/A\"\n",
    "        )\n",
    "        auction_name = spans[1].text.strip() if len(spans) > 1 else \"N/A\"\n",
    "    else:\n",
    "        lot = \"N/A\"\n",
    "        auction_name = \"N/A\"\n",
    "\n",
    "    # Extract sold price\n",
    "    sold_price_section = vehicle.find(\"div\", class_=\"bot\")\n",
    "    sold_price = (\n",
    "        sold_price_section.text.replace(\"Sold Price: \", \"\").strip()\n",
    "        if sold_price_section\n",
    "        else \"N/A\"\n",
    "    )\n",
    "\n",
    "    data.append([car_name, lot, auction_name, sold_price])\n",
    "\n",
    "# Convert the data into a DataFrame\n",
    "df = pd.DataFrame(data, columns=[\"Car Name\", \"Lot\", \"Auction Name\", \"Sold Price\"])\n",
    "\n",
    "# Save the DataFrame to an Excel file\n",
    "df.to_excel(\"auction_data.xlsx\", index=False, engine=\"openpyxl\")\n",
    "\n",
    "# Print message indicating that the data has been saved\n",
    "print(\"Data has been saved to 'auction_data.xlsx'.\")\n",
    "\n",
    "# Close the browser\n",
    "driver.quit()"
   ]
  }
 ],
 "metadata": {
  "kernelspec": {
   "display_name": "myenv",
   "language": "python",
   "name": "python3"
  },
  "language_info": {
   "codemirror_mode": {
    "name": "ipython",
    "version": 3
   },
   "file_extension": ".py",
   "mimetype": "text/x-python",
   "name": "python",
   "nbconvert_exporter": "python",
   "pygments_lexer": "ipython3",
   "version": "3.13.0"
  }
 },
 "nbformat": 4,
 "nbformat_minor": 2
}
